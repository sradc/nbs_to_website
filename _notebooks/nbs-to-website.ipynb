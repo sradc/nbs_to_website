{
 "cells": [
  {
   "cell_type": "markdown",
   "id": "42eb7929",
   "metadata": {},
   "source": [
    "# This Jupyter Notebook generates this website."
   ]
  },
  {
   "cell_type": "markdown",
   "id": "37b67e6b",
   "metadata": {},
   "source": [
    "I wanted to be able to generate my website from a collection of Jupyter Notebooks.\n",
    "There's already tools for this.\n",
    "However, I thought it would be fun if the site was generated from one of its own notebooks. \n",
    "This is that notebook.\n",
    "\n",
    "This is still a work in progress, (missing features + needs some tidying up).\n",
    "\n",
    "Some things this notebook does:\n",
    "- Read the Jupyter Notebook (it's json data, so easy to load).\n",
    "- Get the text content of markdown/code cells.\n",
    "- Get the text output or image output of cells.\n",
    "- Enable \"cell parameters\", e.g. for flagging when to hide cells, etc.\n",
    "- Put it into html\n",
    "- Use pygments to convert code to highlighted html\n",
    "- Use markdown to convert the markdown to html\n",
    "- Convert the base64 string images into images, to enable caching/smaller sizes.\n",
    "- Specify the styling."
   ]
  },
  {
   "cell_type": "code",
   "execution_count": 12,
   "id": "7c9bfe62-ed33-4a43-b195-35787eb8b907",
   "metadata": {},
   "outputs": [],
   "source": [
    "import json\n",
    "from pathlib import Path\n",
    "import re\n",
    "\n",
    "from markdown import markdown\n",
    "import pygments\n",
    "from pygments import highlight\n",
    "from tqdm import tqdm\n",
    "\n",
    "python_lexer = pygments.lexers.PythonLexer()\n",
    "text_lexer = pygments.lexers.TextLexer()\n",
    "html_formatter = pygments.formatters.HtmlFormatter(linenos=False)"
   ]
  },
  {
   "cell_type": "code",
   "execution_count": 13,
   "id": "ba73a3b6",
   "metadata": {},
   "outputs": [
    {
     "name": "stdout",
     "output_type": "stream",
     "text": [
      "/Users/sidneyradcliffe/repos/nbs-to-website/_notebooks\n"
     ]
    }
   ],
   "source": [
    "try:\n",
    "    nb_dir = Path(__file__).resolve()  # if running as a script\n",
    "except NameError:\n",
    "    nb_dir = Path().resolve()  # if running as a Jupyter Notebook\n",
    "print(nb_dir.resolve())\n",
    "\n",
    "WEBSITE_DIR = nb_dir.parent  # generated content goes here"
   ]
  },
  {
   "cell_type": "markdown",
   "id": "8d7b7454",
   "metadata": {},
   "source": [
    "### Cell parameters\n",
    "\n",
    "Make it possible to put parameters in the Jupyter Notebook cells, that can be looked at when building the website."
   ]
  },
  {
   "cell_type": "code",
   "execution_count": 14,
   "id": "a307fe8e",
   "metadata": {},
   "outputs": [
    {
     "data": {
      "text/plain": [
       "{'my_flag': True, 'my_key': 'my_value', 'foo': 'bar'}"
      ]
     },
     "execution_count": 14,
     "metadata": {},
     "output_type": "execute_result"
    }
   ],
   "source": [
    "def get_cell_flag(x: str) -> dict[str, bool | str]:\n",
    "    \"\"\"Get parameters in Jupyter cells, that are comments in the form:\n",
    "\n",
    "    #{{my_flag}}\n",
    "    #{{my_key=my_value}}\n",
    "    x = 4\n",
    "    #{{foo=bar}}\n",
    "\n",
    "    \"\"\"\n",
    "    params = re.findall(r\"^#\\{\\{.+\\}\\}\", x, flags=re.MULTILINE)\n",
    "    params = (x[3:-2].split(\"=\") for x in params)  # remove '{{'/'}}' from the strings\n",
    "    result = {}\n",
    "    for x in params:\n",
    "        if len(x) == 1:\n",
    "            result[x[0]] = True\n",
    "        elif len(x) == 2:\n",
    "            result[x[0]] = x[1]\n",
    "        else:\n",
    "            raise RuntimeError(f\"Invalid param length, '{len(x) = }', {x = }\")\n",
    "    return result\n",
    "\n",
    "\n",
    "# An example:\n",
    "get_cell_flag(\n",
    "    \"\"\"#{{my_flag}}\n",
    "#{{my_key=my_value}}\n",
    "This is a simulation of a ipynb cell.\n",
    "#{{foo=bar}}\n",
    "\"\"\"\n",
    ")"
   ]
  },
  {
   "cell_type": "markdown",
   "id": "0d863f21",
   "metadata": {},
   "source": [
    "### Parsing the notebook"
   ]
  },
  {
   "cell_type": "code",
   "execution_count": 15,
   "id": "1505a572",
   "metadata": {},
   "outputs": [],
   "source": [
    "\n",
    "def nb_to_html(nb_path: str) -> str:\n",
    "    nb_data = json.loads(Path(nb_path).read_text())\n",
    "    cells_as_html = (cell_to_html(cell) for cell in nb_data[\"cells\"])\n",
    "    html = \"\".join(cells_as_html)\n",
    "    return f'<div class=\"notebook\">{html}</div>'\n",
    "\n",
    "\n",
    "def cell_to_html(cell: dict) -> list[list[str]]:\n",
    "    result = []\n",
    "    content = \"\".join(cell.get(\"source\", \"\")).strip()\n",
    "    if not content:\n",
    "        return \"\"\n",
    "    if cell[\"cell_type\"] == \"markdown\":\n",
    "        html = f'<div class=\"markdown\">{markdown(content)}</div>'\n",
    "        result.append(html)\n",
    "    elif cell[\"cell_type\"] == \"code\":\n",
    "        html = (\n",
    "            '<div class=\"code\">'\n",
    "            + highlight(content, python_lexer, html_formatter)\n",
    "            + \"</div>\"\n",
    "        )\n",
    "        result.append(html)\n",
    "        if outputs := \"\".join(cell_outputs_to_html(cell[\"outputs\"])).strip():\n",
    "            result.append(f'<div class=\"outputs\">{outputs}</div>')\n",
    "\n",
    "    cell_flag = get_cell_flag(content)\n",
    "    result = f'<div class=\"block\">{\"\".join(result)}</div>'\n",
    "    return result\n",
    "\n",
    "\n",
    "def cell_outputs_to_html(cell_outputs: list[dict]) -> list[str]:\n",
    "    result = []\n",
    "    for cell_output in cell_outputs:\n",
    "        match cell_output[\"output_type\"]:\n",
    "            case \"stream\":\n",
    "                if text := \"\".join(cell_output[\"text\"]).strip():\n",
    "                    content = highlight(text, text_lexer, html_formatter)\n",
    "                    html = f'<div class=\"outtext\">{content}</div>'\n",
    "                    result.append(html)\n",
    "            case \"display_data\":\n",
    "                if imdata := cell_output[\"data\"][\"image/png\"].strip():\n",
    "                    img = \"data:image/png;base64,\" + imdata\n",
    "                    html = f'<img src=\"{img}\" class=\"out_img\"/>'\n",
    "                    result.append(html)\n",
    "            case _:\n",
    "                pass\n",
    "    return result\n"
   ]
  },
  {
   "cell_type": "code",
   "execution_count": 16,
   "id": "9b498122-5b49-4c99-bd7d-bff802609772",
   "metadata": {},
   "outputs": [],
   "source": [
    "\n",
    "mathjax = '''\n",
    "<script type=\"text/javascript\" async\n",
    "  src=\"https://cdnjs.cloudflare.com/ajax/libs/mathjax/2.7.7/MathJax.js?config=TeX-MML-AM_CHTML\">\n",
    "</script>\n",
    "\n",
    "<!-- MathJax configuration -->\n",
    "<script type=\"text/x-mathjax-config\">\n",
    "MathJax.Hub.Config({\n",
    "    tex2jax: {\n",
    "        inlineMath: [ ['$','$'], ],\n",
    "        displayMath: [ ['$$','$$'], ],\n",
    "        processEscapes: true,\n",
    "        processEnvironments: true\n",
    "    },\n",
    "    // Center justify equations in code and markdown cells. Elsewhere\n",
    "    // we use CSS to left justify single line equations in code cells.\n",
    "    displayAlign: 'center',\n",
    "    \"HTML-CSS\": {\n",
    "        styles: {'.MathJax_Display': {\"margin\": 0}},\n",
    "        linebreaks: { automatic: true }\n",
    "    }\n",
    "});\n",
    "</script>\n",
    "'''\n",
    "\n",
    "style = html_formatter.get_style_defs('.highlight') + \"\"\"\n",
    ".notebook {\n",
    "  margin: auto;\n",
    "  max-width: 666px;\n",
    "  /*border: 1px solid green;*/\n",
    "  padding: 4px;\n",
    "}\n",
    "\n",
    ".markdown {\n",
    "    font-family: 'Open Sans', sans-serif;\n",
    "}\n",
    "\n",
    ".code.outputs * {\n",
    "  font-family: 'Overpass Mono';\n",
    "  font-style: normal;\n",
    "}\n",
    "\n",
    ".code * {\n",
    "    /*padding: 0px 8px 0px 8px;*/\n",
    "    background-color: #f8f8f8;\n",
    "    font-family: 'Overpass Mono', monospace;\n",
    "    font-size: 15px;\n",
    "}\n",
    "\n",
    ".outputs {\n",
    "    padding: 0px 16px 0px 16px;\n",
    "}\n",
    "\n",
    ".outputs * {\n",
    "    font-family: 'Overpass Mono', monospace;\n",
    "    font-size: 15px;\n",
    "}\n",
    "\n",
    "/* override pygments */\n",
    ".highlight {\n",
    "    background-color: rgba(0,0,0,0);\n",
    "}\n",
    "\n",
    "pre {\n",
    "    font-family: 'Overpass Mono', monospace;\n",
    "    overflow: auto;\n",
    "}\n",
    "\n",
    ".highlight pre code * {\n",
    "    white-space: nowrap;    // this sets all children inside to nowrap\n",
    "}\n",
    "\n",
    ".highlight pre {\n",
    "    overflow-x: auto;       // this sets the scrolling in x\n",
    "}\n",
    "\n",
    ".highlight pre code {\n",
    "    white-space: pre;       // forces <code> to respect <pre> formatting\n",
    "}\n",
    "\n",
    "/*\n",
    "^- thanks:\n",
    "https://david-kerwick.github.io/2012-05-03-get-prettify-to-behave-in-firefox/\n",
    "*/\n",
    "\"\"\""
   ]
  },
  {
   "cell_type": "markdown",
   "id": "04cc6efd",
   "metadata": {},
   "source": [
    "### Site directory structure:\n",
    "\n",
    "```\n",
    "generated_site/\n",
    "    index.html\n",
    "    stylesheet.css\n",
    "    script.js\n",
    "    posts/\n",
    "        notebook_1/\n",
    "            index.html\n",
    "            image_1.jpg\n",
    "            image_2.jpg\n",
    "        notebook_2/\n",
    "            index.html\n",
    "            image_1.jpg\n",
    "```\n",
    "\n",
    "To see it:\n",
    "\n",
    "```bash\n",
    "cd generated_site \n",
    "python -m http.server\n",
    "```"
   ]
  },
  {
   "cell_type": "code",
   "execution_count": 17,
   "id": "084fec5b",
   "metadata": {},
   "outputs": [
    {
     "data": {
      "text/plain": [
       "210"
      ]
     },
     "execution_count": 17,
     "metadata": {},
     "output_type": "execute_result"
    }
   ],
   "source": [
    "def mkdir(path: Path) -> Path:\n",
    "    path.mkdir(exist_ok=True) \n",
    "    return path\n",
    "\n",
    "root = WEBSITE_DIR\n",
    "posts = mkdir(root / \"posts/\")\n",
    "\n",
    "(root / \"stylesheet.css\").write_text(style)\n",
    "\n",
    "(root / \"script.js\").write_text(\"\"\"\n",
    "console.log(\"hi from my script\")\n",
    "\"\"\")"
   ]
  },
  {
   "cell_type": "code",
   "execution_count": 18,
   "id": "0761cf82",
   "metadata": {},
   "outputs": [
    {
     "name": "stderr",
     "output_type": "stream",
     "text": [
      "100%|██████████| 2/2 [00:00<00:00, 140.40it/s]\n"
     ]
    },
    {
     "data": {
      "text/plain": [
       "402"
      ]
     },
     "execution_count": 18,
     "metadata": {},
     "output_type": "execute_result"
    }
   ],
   "source": [
    "links = []\n",
    "for notebook in tqdm(list(nb_dir.glob(\"*.ipynb\"))):\n",
    "    post_dir = mkdir(posts / notebook.stem)\n",
    "    (post_dir / \"index.html\").write_text(f\"\"\"\n",
    "<!DOCTYPE html>\n",
    "<html lang=\"en\">\n",
    "  <head>\n",
    "    <meta charset=\"utf-8\">\n",
    "    <meta name=\"viewport\" content=\"width=device-width, initial-scale=1.0\">\n",
    "    <title>Test page</title>\n",
    "    <link rel=\"stylesheet\" href=\"../../stylesheet.css\">\n",
    "    <script src=\"../../script.js\"></script>\n",
    "    {mathjax}\n",
    "  </head>\n",
    "  <body>\n",
    "    {nb_to_html(notebook)}\n",
    "  </body>\n",
    "</html>\n",
    "    \"\"\")\n",
    "    links.append(str(post_dir.relative_to(root))) \n",
    "\n",
    "links: str = '\\n'.join(f'<br/><a href=\"{x}\">{x}</a>' for x in links)\n",
    "\n",
    "(root / \"index.html\").write_text(f\"\"\"\n",
    "<!DOCTYPE html>\n",
    "<html lang=\"en\">\n",
    "  <head>\n",
    "    <meta charset=\"utf-8\">\n",
    "    <meta name=\"viewport\" content=\"width=device-width, initial-scale=1.0\">\n",
    "    <title>sid's site</title>\n",
    "    <link rel=\"stylesheet\" href=\"./stylesheet.css\">\n",
    "    <script src=\"./script.js\"></script>\n",
    "  </head>\n",
    "  <body>\n",
    "    <h1>Home page</h1>\n",
    "    <a href=\"/posts/test\">Test page</a>\n",
    "    {links}\n",
    "  </body>\n",
    "</html>\n",
    "\"\"\")\n"
   ]
  }
 ],
 "metadata": {
  "interpreter": {
   "hash": "a34a4830e700411763734d653faf0adafec927173708c3dffa1f5e505c3cf26f"
  },
  "kernelspec": {
   "display_name": "Python 3.10.0 ('py310')",
   "language": "python",
   "name": "python3"
  },
  "language_info": {
   "codemirror_mode": {
    "name": "ipython",
    "version": 3
   },
   "file_extension": ".py",
   "mimetype": "text/x-python",
   "name": "python",
   "nbconvert_exporter": "python",
   "pygments_lexer": "ipython3",
   "version": "3.10.0"
  }
 },
 "nbformat": 4,
 "nbformat_minor": 5
}
