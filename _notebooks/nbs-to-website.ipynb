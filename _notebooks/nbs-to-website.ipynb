{
 "cells": [
  {
   "cell_type": "markdown",
   "id": "42eb7929",
   "metadata": {},
   "source": [
    "# This Jupyter Notebook generates this website."
   ]
  },
  {
   "cell_type": "markdown",
   "id": "37b67e6b",
   "metadata": {},
   "source": [
    "I wanted to be able to generate my website from a collection of Jupyter Notebooks.\n",
    "There's already tools for this.\n",
    "However, I thought it would be fun if the site was generated from one of its own notebooks. \n",
    "This is that notebook.\n",
    "\n",
    "This is still a work in progress, (missing features + needs some tidying up).\n",
    "\n",
    "Some things this notebook does:\n",
    "- Read the Jupyter Notebook (it's json data, so easy to load).\n",
    "- Get the text content of markdown/code cells.\n",
    "- Get the text output or image output of cells.\n",
    "- Enable \"cell parameters\", e.g. for flagging when to hide cells, etc.\n",
    "- Put it into html\n",
    "- Use pygments to convert code to highlighted html\n",
    "- Use markdown to convert the markdown to html\n",
    "- Convert the base64 string images into images, to enable caching/smaller sizes.\n",
    "- Specify the styling.\n",
    "\n",
    "Requirements:\n",
    "\n",
    "```\n",
    "markdown=3.3.6\n",
    "pygments=2.11.2\n",
    "tqdm=4.62.3\n",
    "```"
   ]
  },
  {
   "cell_type": "code",
   "execution_count": 25,
   "id": "7c9bfe62-ed33-4a43-b195-35787eb8b907",
   "metadata": {},
   "outputs": [],
   "source": [
    "import base64\n",
    "import hashlib\n",
    "import json\n",
    "from pathlib import Path\n",
    "import re\n",
    "\n",
    "from marko import convert as markdown\n",
    "from pygments import formatters, lexers, highlight\n",
    "from pygments.styles import STYLE_MAP\n",
    "from tqdm import tqdm\n",
    "\n",
    "IMG_NAME_HASH_LEN = 5  # use first `IMG_NAME_HASH_LEN` of hash for filename\n",
    "\n",
    "python_lexer = lexers.PythonLexer()\n",
    "text_lexer = lexers.TextLexer()\n",
    "html_formatter = formatters.HtmlFormatter(linenos=False, style=\"default\")"
   ]
  },
  {
   "cell_type": "code",
   "execution_count": 26,
   "id": "c1a3982c",
   "metadata": {},
   "outputs": [
    {
     "name": "stdout",
     "output_type": "stream",
     "text": [
      "dict_keys(['default', 'emacs', 'friendly', 'friendly_grayscale', 'colorful', 'autumn', 'murphy', 'manni', 'material', 'monokai', 'perldoc', 'pastie', 'borland', 'trac', 'native', 'fruity', 'bw', 'vim', 'vs', 'tango', 'rrt', 'xcode', 'igor', 'paraiso-light', 'paraiso-dark', 'lovelace', 'algol', 'algol_nu', 'arduino', 'rainbow_dash', 'abap', 'solarized-dark', 'solarized-light', 'sas', 'stata', 'stata-light', 'stata-dark', 'inkpot', 'zenburn', 'gruvbox-dark', 'gruvbox-light', 'dracula', 'one-dark', 'lilypond'])\n"
     ]
    }
   ],
   "source": [
    "print(STYLE_MAP.keys())"
   ]
  },
  {
   "cell_type": "code",
   "execution_count": 27,
   "id": "ba73a3b6",
   "metadata": {},
   "outputs": [
    {
     "name": "stdout",
     "output_type": "stream",
     "text": [
      "WEBSITE_DIR = PosixPath('/Users/sidneyradcliffe/repos/nbs-to-website')\n"
     ]
    }
   ],
   "source": [
    "try:\n",
    "    # if running as a script\n",
    "    nb_dir = Path(__file__).resolve().parent\n",
    "except NameError:\n",
    "    # if running as a Jupyter Notebook\n",
    "    nb_dir = Path().resolve()\n",
    "\n",
    "WEBSITE_DIR = nb_dir.parent\n",
    "print(f\"{WEBSITE_DIR = }\")"
   ]
  },
  {
   "cell_type": "markdown",
   "id": "8d7b7454",
   "metadata": {},
   "source": [
    "### Cell parameters\n",
    "\n",
    "Make it possible to put parameters in the Jupyter Notebook cells, that can be looked at when building the website."
   ]
  },
  {
   "cell_type": "code",
   "execution_count": 28,
   "id": "a307fe8e",
   "metadata": {},
   "outputs": [
    {
     "name": "stdout",
     "output_type": "stream",
     "text": [
      "{'my_flag': True, 'my_key': 'my_value', 'foo': 'bar'}\n"
     ]
    }
   ],
   "source": [
    "def get_cell_flag(x: str) -> dict[str, bool | str]:\n",
    "    \"\"\"Get parameters in Jupyter cells, that are comments in the form:\n",
    "\n",
    "    # {{my_flag}}\n",
    "    # {{my_key=my_value}}\n",
    "    x = 4\n",
    "    # {{foo=bar}}\n",
    "\n",
    "    \"\"\"\n",
    "    params = re.findall(r\"^# \\{\\{.+\\}\\}\", x, flags=re.MULTILINE)\n",
    "    params = (x[4:-2].split(\"=\") for x in params)  # remove '{{'/'}}' from the strings\n",
    "    result = {}\n",
    "    for x in params:\n",
    "        if len(x) == 1:\n",
    "            result[x[0]] = True\n",
    "        elif len(x) == 2:\n",
    "            result[x[0]] = x[1]\n",
    "        else:\n",
    "            raise RuntimeError(f\"Invalid param length, '{len(x) = }', {x = }\")\n",
    "    return result\n",
    "\n",
    "\n",
    "example = \"\"\"# {{my_flag}}\n",
    "# {{my_key=my_value}}\n",
    "This is a simulation of a ipynb cell.\n",
    "# {{foo=bar}}\n",
    "\"\"\"\n",
    "print(get_cell_flag(example))"
   ]
  },
  {
   "cell_type": "markdown",
   "id": "0d863f21",
   "metadata": {},
   "source": [
    "### Parsing the notebook"
   ]
  },
  {
   "cell_type": "code",
   "execution_count": 29,
   "id": "1505a572",
   "metadata": {},
   "outputs": [],
   "source": [
    "def nb_to_html(nb_path: str, post_dir: Path) -> str:\n",
    "    nb_data = json.loads(Path(nb_path).read_text())\n",
    "    cells_as_html = (cell_to_html(cell, post_dir) for cell in nb_data[\"cells\"])\n",
    "    html = \"<br>\".join(cells_as_html)\n",
    "    return f'<div class=\"notebook\">{html}</div>'\n",
    "\n",
    "\n",
    "def cell_to_html(cell: dict, post_dir: Path) -> list[list[str]]:\n",
    "    result = []\n",
    "    content = \"\".join(cell.get(\"source\", \"\")).strip()\n",
    "    if not content:\n",
    "        return \"\"\n",
    "    if cell[\"cell_type\"] == \"markdown\":\n",
    "        html = f'<div class=\"markdown\">{markdown(content)}</div>'\n",
    "        result.append(html)\n",
    "    elif cell[\"cell_type\"] == \"code\":\n",
    "        html = (\n",
    "            '<div class=\"code\">'\n",
    "            + highlight(content, python_lexer, html_formatter)\n",
    "            + \"</div>\"\n",
    "        )\n",
    "        result.append(html)\n",
    "        if outputs := \"\".join(cell_outputs_to_html(cell[\"outputs\"], post_dir)).strip():\n",
    "            result.append(f'<div class=\"outputs\">{outputs}</div>')\n",
    "\n",
    "    cell_flag = get_cell_flag(content)\n",
    "    return \"\".join(result)\n",
    "\n",
    "\n",
    "def cell_outputs_to_html(cell_outputs: list[dict], post_dir: Path) -> list[str]:\n",
    "    result = []\n",
    "    for cell_output in cell_outputs:\n",
    "        match cell_output[\"output_type\"]:\n",
    "            case \"stream\":\n",
    "                if text := \"\".join(x for x in cell_output[\"text\"] if x.strip()).strip():\n",
    "                    content = highlight(text, text_lexer, html_formatter)\n",
    "                    html = f'<div class=\"outtext\">{content}</div>'\n",
    "                    result.append(html)\n",
    "            case \"display_data\":\n",
    "                if imdata := cell_output[\"data\"][\"image/png\"].strip():\n",
    "                    imdata = imdata.encode(\"utf-8\")\n",
    "                    hash = hashlib.sha256(imdata).hexdigest()\n",
    "                    fname = f\"{hash[:IMG_NAME_HASH_LEN]}.png\"\n",
    "                    (post_dir / fname).write_bytes(base64.decodebytes(imdata))\n",
    "                    html = f'<img src=\"./{fname}\" class=\"out_img\"/>'\n",
    "                    result.append(html)\n",
    "            case _:\n",
    "                pass\n",
    "    return result"
   ]
  },
  {
   "cell_type": "code",
   "execution_count": 30,
   "id": "9b498122-5b49-4c99-bd7d-bff802609772",
   "metadata": {},
   "outputs": [],
   "source": [
    "mathjax = \"\"\"\n",
    "<script type=\"text/javascript\" async\n",
    "  src=\"https://cdnjs.cloudflare.com/ajax/libs/mathjax/2.7.7/MathJax.js?config=TeX-MML-AM_CHTML\">\n",
    "</script>\n",
    "\n",
    "<!-- MathJax configuration -->\n",
    "<script type=\"text/x-mathjax-config\">\n",
    "MathJax.Hub.Config({\n",
    "    tex2jax: {\n",
    "        inlineMath: [ ['$','$'], ],\n",
    "        displayMath: [ ['$$','$$'], ],\n",
    "        processEscapes: true,\n",
    "        processEnvironments: true\n",
    "    },\n",
    "    // Center justify equations in code and markdown cells. Elsewhere\n",
    "    // we use CSS to left justify single line equations in code cells.\n",
    "    displayAlign: 'center',\n",
    "    \"HTML-CSS\": {\n",
    "        styles: {'.MathJax_Display': {\"margin\": 0}},\n",
    "        linebreaks: { automatic: true }\n",
    "    }\n",
    "});\n",
    "</script>\n",
    "\"\"\"\n",
    "\n",
    "style = (\n",
    "    html_formatter.get_style_defs(\".highlight\")\n",
    "    + \"\"\"\n",
    ".code, .markdown, .outputs {\n",
    "  margin: auto;\n",
    "  max-width: 600px;\n",
    "  padding: 4px 4px 4px 8px;\n",
    "  box-sizing: border-box;\n",
    "}\n",
    ".code, .outputs {\n",
    "  max-width: 720px;\n",
    "  overflow: auto;\n",
    "}\n",
    ".code {\n",
    "  background-color: #F8F8F8;\n",
    "  /*box-shadow: inset 3px 3px 4px 3px #F0F0F0;*/\n",
    "}\n",
    ".outputs {\n",
    "  /*\n",
    "  box-shadow: inset 0px 0px 1px 4px #F8F8F8;\n",
    "  background-color: lightgray;\n",
    "  background-image: url(data:image/png;base64,iVBORw0KGgoAAAANSUhEUgAAAAIAAAACCAAAAABX3VL4AAAADklEQVQI12P4/5/hPwMACvsC/tmfKMUAAAAASUVORK5CYII=);\n",
    "  */\n",
    "  box-shadow: inset 4px -4px 3px #F0F0F0;\n",
    "  border: 6px solid #F8F8F8;\n",
    "}\n",
    ".notebook {\n",
    "  font-family: sans-serif;\n",
    "}\n",
    ".code *, .outputs *, code {\n",
    "  font-family: monospace;\n",
    "  background-color: rgba(0,0,0,0);\n",
    "}\n",
    "\"\"\"\n",
    ")"
   ]
  },
  {
   "cell_type": "markdown",
   "id": "04cc6efd",
   "metadata": {},
   "source": [
    "### Site directory structure:\n",
    "\n",
    "```\n",
    "generated_site/\n",
    "    index.html\n",
    "    stylesheet.css\n",
    "    script.js\n",
    "    posts/\n",
    "        notebook_1/\n",
    "            index.html\n",
    "            image_1.jpg\n",
    "            image_2.jpg\n",
    "        notebook_2/\n",
    "            index.html\n",
    "            image_1.jpg\n",
    "```\n",
    "\n",
    "To see it:\n",
    "\n",
    "```bash\n",
    "cd generated_site \n",
    "python -m http.server\n",
    "```"
   ]
  },
  {
   "cell_type": "code",
   "execution_count": 31,
   "id": "084fec5b",
   "metadata": {},
   "outputs": [
    {
     "data": {
      "text/plain": [
       "34"
      ]
     },
     "execution_count": 31,
     "metadata": {},
     "output_type": "execute_result"
    }
   ],
   "source": [
    "def mkdir(path: Path) -> Path:\n",
    "    path.mkdir(exist_ok=True)\n",
    "    return path\n",
    "\n",
    "\n",
    "root = WEBSITE_DIR\n",
    "posts = mkdir(root / \"posts/\")\n",
    "\n",
    "(root / \"stylesheet.css\").write_text(style)\n",
    "\n",
    "(root / \"script.js\").write_text(\n",
    "    \"\"\"\n",
    "console.log(\"hi from my script\")\n",
    "\"\"\"\n",
    ")"
   ]
  },
  {
   "cell_type": "code",
   "execution_count": 32,
   "id": "0761cf82",
   "metadata": {},
   "outputs": [
    {
     "name": "stderr",
     "output_type": "stream",
     "text": [
      "100%|██████████| 2/2 [00:00<00:00, 92.89it/s]\n"
     ]
    },
    {
     "data": {
      "text/plain": [
       "437"
      ]
     },
     "execution_count": 32,
     "metadata": {},
     "output_type": "execute_result"
    }
   ],
   "source": [
    "links = []\n",
    "for notebook in tqdm(list(nb_dir.glob(\"*.ipynb\"))):\n",
    "    post_dir = mkdir(posts / notebook.stem)\n",
    "    (post_dir / \"index.html\").write_text(\n",
    "        f\"\"\"\n",
    "<!DOCTYPE html>\n",
    "<html lang=\"en\">\n",
    "  <head>\n",
    "    <meta charset=\"utf-8\">\n",
    "    <meta name=\"viewport\" content=\"width=device-width, initial-scale=1.0\">\n",
    "    <title>Test page</title>\n",
    "    <link rel=\"stylesheet\" href=\"../../stylesheet.css\">\n",
    "    <script src=\"../../script.js\"></script>\n",
    "    {mathjax}\n",
    "  </head>\n",
    "  <body>\n",
    "    {nb_to_html(notebook, post_dir)}\n",
    "  </body>\n",
    "</html>\n",
    "    \"\"\"\n",
    "    )\n",
    "    links.append(str(post_dir.relative_to(root)))\n",
    "\n",
    "links: str = \"\\n\".join(f'<br/><a href=\"{x}\">{x}</a>' for x in links)\n",
    "\n",
    "(root / \"index.html\").write_text(\n",
    "    f\"\"\"\n",
    "<!DOCTYPE html>\n",
    "<html lang=\"en\">\n",
    "  <head>\n",
    "    <meta charset=\"utf-8\">\n",
    "    <meta name=\"viewport\" content=\"width=device-width, initial-scale=1.0\">\n",
    "    <title>sid's site</title>\n",
    "    <link rel=\"stylesheet\" href=\"./stylesheet.css\">\n",
    "    <script src=\"./script.js\"></script>\n",
    "  </head>\n",
    "  <body>\n",
    "    <h1>Home page</h1>\n",
    "    {links}\n",
    "  </body>\n",
    "</html>\n",
    "\"\"\"\n",
    ")"
   ]
  },
  {
   "cell_type": "code",
   "execution_count": null,
   "id": "62e2c02c",
   "metadata": {},
   "outputs": [],
   "source": []
  }
 ],
 "metadata": {
  "interpreter": {
   "hash": "ffce2543091e078539a83accc6abf3d24c5cccf3bde23008ec3486ef947154ec"
  },
  "kernelspec": {
   "display_name": "Python 3.10.4 ('nbs-to-website')",
   "language": "python",
   "name": "python3"
  },
  "language_info": {
   "codemirror_mode": {
    "name": "ipython",
    "version": 3
   },
   "file_extension": ".py",
   "mimetype": "text/x-python",
   "name": "python",
   "nbconvert_exporter": "python",
   "pygments_lexer": "ipython3",
   "version": "3.10.4"
  }
 },
 "nbformat": 4,
 "nbformat_minor": 5
}
